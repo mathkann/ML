{
 "metadata": {
  "name": "",
  "signature": "sha256:809e3f709b9b59afa6b1082dc6baa35f9d784d34c7d01d16f89de79665a33cfa"
 },
 "nbformat": 3,
 "nbformat_minor": 0,
 "worksheets": [
  {
   "cells": [
    {
     "cell_type": "heading",
     "level": 1,
     "metadata": {},
     "source": [
      "Homework - 1 "
     ]
    },
    {
     "cell_type": "markdown",
     "metadata": {},
     "source": [
      "#####Vectors and Matrices \n",
      "\n",
      "Consider the matrix X and the vectors y and z below:\n",
      "\n",
      "$$ \n",
      "\\mathbf{X} = \n",
      "\\begin{bmatrix} \n",
      "2&4 \\\\\n",
      "1&3\n",
      "\\end{bmatrix}\n",
      "$$\n",
      "\n",
      "$$\\mathbf{y} = \\begin{bmatrix} 1 \\\\ 3 \\end{bmatrix}$$\n",
      "\n",
      "$$\\mathbf{z} = \\begin{bmatrix} 2 \\\\ 3 \\end{bmatrix}$$\n",
      "\n",
      "\n"
     ]
    },
    {
     "cell_type": "markdown",
     "metadata": {},
     "source": [
      "**1. What is the inner product of the vectors y and z? (this is also sometimes called the dot product, and is sometimes written $y^Tz$)**\n",
      "\n",
      "Inner Product of y and z ($y^T z$) = $(1 * 2) + ( 3 * 3) = 11$ "
     ]
    },
    {
     "cell_type": "code",
     "collapsed": false,
     "input": [
      "# Inner Product of two vectors using Numpy\n",
      "import numpy as np\n",
      "y =  np.array([[1], [3]])\n",
      "z = np.array([[2], [3]])\n",
      "\n",
      "print np.vdot(y,z)"
     ],
     "language": "python",
     "metadata": {},
     "outputs": [
      {
       "output_type": "stream",
       "stream": "stdout",
       "text": [
        "11\n"
       ]
      }
     ],
     "prompt_number": 12
    },
    {
     "cell_type": "markdown",
     "metadata": {},
     "source": [
      "**2. What is the product Xy?**\n",
      "\n",
      "Xy = $\\begin{bmatrix} (2 * 1) + ( 1 * 3) \\\\(4 * 1) + (3 * 3) \\end{bmatrix}$\n",
      "\n",
      "Xy = $\\begin{bmatrix} 5 \\\\ 13 \\end{bmatrix}$"
     ]
    },
    {
     "cell_type": "code",
     "collapsed": false,
     "input": [
      "# Matrix Vector multiplication using Numpy\n",
      "X = np.array([[2,1],[4,3]])\n",
      "y =  np.array([[1], [3]])\n",
      "\n",
      "print X.dot(y)"
     ],
     "language": "python",
     "metadata": {},
     "outputs": [
      {
       "output_type": "stream",
       "stream": "stdout",
       "text": [
        "[[ 5]\n",
        " [13]]\n"
       ]
      }
     ],
     "prompt_number": 13
    },
    {
     "cell_type": "markdown",
     "metadata": {},
     "source": [
      "**3. Is X invertible? If so, give the inverse, and if no, explain why not.**\n",
      "\n",
      "A n x n square matrix A is said to be invertible or nonsingular if there exists any n x n square matrix B such that $$ AB = BA = I_n $$ , where $I_n$ is a n x n Identity matrix.\n",
      "\n",
      "The inverse matrix of $X$, denoted by $X^{-1}$ is $$\\mathbf{X^{-1}} = \\begin{bmatrix} 1.5&-0.5 \\\\ -2&1 \\end{bmatrix}$$"
     ]
    },
    {
     "cell_type": "code",
     "collapsed": false,
     "input": [
      "# Inverse of X in Numpy\n",
      "from numpy.linalg import inv\n",
      "X_inv = inv(X)\n",
      "print 'Inverse of X is:'\n",
      "print X_inv\n",
      "\n",
      "print 'X * X_inv is an Identity Matrix'\n",
      "print X.dot(X_inv)"
     ],
     "language": "python",
     "metadata": {},
     "outputs": [
      {
       "output_type": "stream",
       "stream": "stdout",
       "text": [
        "Inverse of X is:\n",
        "[[ 1.5 -0.5]\n",
        " [-2.   1. ]]\n",
        "X * X_inv is an Identity Matrix\n",
        "[[ 1.  0.]\n",
        " [ 0.  1.]]\n"
       ]
      }
     ],
     "prompt_number": 14
    },
    {
     "cell_type": "markdown",
     "metadata": {},
     "source": [
      "**4. What is the rank of X?**\n",
      "\n",
      "The rank of X is 2, since the column rank is 2."
     ]
    },
    {
     "cell_type": "heading",
     "level": 5,
     "metadata": {},
     "source": [
      "Calculus"
     ]
    },
    {
     "cell_type": "markdown",
     "metadata": {},
     "source": [
      "**1. If $y = x^3 + x \u2212 5$ then what is the derivative of y with respect to x?**\n",
      "\n",
      "Derivative of y w.r.t x is: $ \\frac{dy}{dx} = 3x^2 + 1$"
     ]
    },
    {
     "cell_type": "markdown",
     "metadata": {},
     "source": [
      "**2. If $y = x\\:sin(z)\\:e^{\u2212x}$ then what is the partial derivative of y with respect to x?**\n",
      "\n",
      "Using Product Rule and the fact that derivative of $e^{-x} = -e^{-x}$, $x = 1$, we have \n",
      "\n",
      "$\\frac{\\partial y}{\\partial x} = sin(z)\\:e^{-x} - x\\:sin(z)\\:e^{-x}$"
     ]
    },
    {
     "cell_type": "heading",
     "level": 5,
     "metadata": {},
     "source": [
      "Probability and Statistics"
     ]
    },
    {
     "cell_type": "markdown",
     "metadata": {},
     "source": [
      "Consider a sample of data S = {1, 1, 0, 1, 0} created by flipping a coin x five times, where 0 denotes that the coin turned up heads and 1 denotes that it turned up tails.\n",
      "\n",
      "**1. What is the sample mean for this data?**\n",
      "\n",
      "Sample Mean is $\\frac{1 + 1 + 0 + 1 + 0}{5} = \\frac{3}{5}$"
     ]
    },
    {
     "cell_type": "markdown",
     "metadata": {},
     "source": [
      "**2. What is the sample variance for this data?**\n",
      "\n",
      "Sample Variance is $\\frac{6}{25}$"
     ]
    },
    {
     "cell_type": "markdown",
     "metadata": {},
     "source": [
      "** 3. What is the probability of observing this data, assuming it was generated by flipping a coin with an equal probability of heads and tails (i.e. the probability distribution is p(x = 1) = 0.5, p(x = 0) = 0.5).**\n",
      "\n",
      "Since it is a sequence of five independent tosses with P(H) = P(T) = 0.5, \n",
      "P(S) = $(\\frac{1}{2})^5 = \\frac{1}{32}$\n"
     ]
    },
    {
     "cell_type": "markdown",
     "metadata": {},
     "source": [
      "** 4. Note that the probability of this data sample would be greater if the value of p(x = 1) was not 0.5, but instead some other value. What is the value that maximizes the probability of the sample S. Please justify your answer.**\n",
      "\n",
      "Answer:\n",
      "Let p(x=1) = p. Therefore, we have p(x=0) = 1-p. If n is the number of tosses, we have the total probability as $\\prod\\limits_{i=1}^n p^{x_i} \\: (1-p)^{x_i} = p^{\\sum_{i=1}^n x_i} \\: (1-p)^{n - \\sum_{i=1}^n x_i}$\n",
      "\n",
      "Let y = $ {\\sum_{i=1}^n x_i} $. \n",
      "\n",
      "The above equation can be now written as $ p^{y} \\: (1-p)^{n - y}$\n",
      "\n",
      "Since we need to find the value of p that maximizes the probability of sample S, we can take the log of the above equation, take its derivative w.r.t p, set it to zero and solve for p.\n",
      "\n",
      "Taking the log, we have $y\\>log(p) + (n-y)\\>log(1-p)$, since $log(a^p) = p\\>log(a)$ and $log(a * b) = log(a) + log(b)$.\n",
      "\n",
      "Taking the derivative w.r.t p and setting it to 0 and solving for p, we have:\n",
      "\n",
      "$$\\begin{equation}\n",
      "\\begin{split}\n",
      "\\frac{dl(p)}{dp} & = \\frac{y}{p} + \\frac{n-y}{(1-p)} = 0 \\\\\n",
      " \\implies 0 & = \\frac{(1-p)\\>y + p\\>(n - y)}{p\\>(1-p)}  \\\\\n",
      " \\implies 0 & = \\frac{y - py + py - pn}{p\\>(1-p)} \\\\\n",
      " \\implies 0 & = \\frac{y - pn}{p\\>(1-p)} \\\\\n",
      " pn & = y \\\\\n",
      " p & = \\frac{1}{n} y \\\\\n",
      " p & = \\frac{1}{n} {\\sum_{i=1}^n x_i} \\\\\n",
      "\\end{split}\n",
      "\\end{equation}$$\n",
      "\n",
      "Plugging in the values for $x_i$ and n=5, we get $\\boxed{p = \\frac{3}{5}}$"
     ]
    },
    {
     "cell_type": "code",
     "collapsed": false,
     "input": [
      "# Custom Styling - Please ignore\n",
      "# Custom CSS Styling \n",
      "from IPython.core.display import HTML\n",
      "\n",
      "def css_styling():\n",
      "    styles = open(\"../../styles/custom.css\", \"r\").read()\n",
      "    return HTML(styles)\n",
      "css_styling()\n"
     ],
     "language": "python",
     "metadata": {},
     "outputs": [
      {
       "html": [
        "<style>\n",
        "    @font-face {\n",
        "        font-family: \"Computer Modern\";\n",
        "        src: url('http://9dbb143991406a7c655e-aa5fcb0a5a4ec34cff238a2d56ca4144.r56.cf5.rackcdn.com/cmunss.otf');\n",
        "    }\n",
        "    @font-face {\n",
        "        font-family: \"Computer Modern\";\n",
        "        font-weight: bold;\n",
        "        src: url('http://9dbb143991406a7c655e-aa5fcb0a5a4ec34cff238a2d56ca4144.r56.cf5.rackcdn.com/cmunsx.otf');\n",
        "    }\n",
        "    @font-face {\n",
        "        font-family: \"Computer Modern\";\n",
        "        font-style: oblique;\n",
        "        src: url('http://9dbb143991406a7c655e-aa5fcb0a5a4ec34cff238a2d56ca4144.r56.cf5.rackcdn.com/cmunsi.otf');\n",
        "    }\n",
        "    @font-face {\n",
        "        font-family: \"Computer Modern\";\n",
        "        font-weight: bold;\n",
        "        font-style: oblique;\n",
        "        src: url('http://9dbb143991406a7c655e-aa5fcb0a5a4ec34cff238a2d56ca4144.r56.cf5.rackcdn.com/cmunso.otf');\n",
        "    }\n",
        "    div.cell{\n",
        "        width:800px;\n",
        "        margin-left:16% !important;\n",
        "        margin-right:auto;\n",
        "    }\n",
        "    h1 {\n",
        "        font-family: Helvetica, serif;\n",
        "    }\n",
        "    h4{\n",
        "        margin-top:12px;\n",
        "        margin-bottom: 3px;\n",
        "       }\n",
        "    div.text_cell_render{\n",
        "        font-family: Computer Modern, \"Helvetica Neue\", Arial, Helvetica, Geneva, sans-serif;\n",
        "        line-height: 145%;\n",
        "        font-size: 130%;\n",
        "        width:800px;\n",
        "        margin-left:auto;\n",
        "        margin-right:auto;\n",
        "    }\n",
        "    .CodeMirror{\n",
        "            font-family: \"Source Code Pro\", source-code-pro,Consolas, monospace;\n",
        "    }\n",
        "    .prompt{\n",
        "        display: None;\n",
        "    }\n",
        "    .text_cell_render h5 {\n",
        "        font-weight: 300;\n",
        "        font-size: 22pt;\n",
        "        color: #4057A1;\n",
        "        font-style: italic;\n",
        "        margin-bottom: .5em;\n",
        "        margin-top: 0.5em;\n",
        "        display: block;\n",
        "    }\n",
        "    \n",
        "    .warning{\n",
        "        color: rgb( 240, 20, 20 )\n",
        "        }  \n",
        "</style>\n",
        "<script>\n",
        "    MathJax.Hub.Config({\n",
        "                        TeX: {\n",
        "                           extensions: [\"AMSmath.js\"]\n",
        "                           },\n",
        "                tex2jax: {\n",
        "                    inlineMath: [ ['$','$'], [\"\\\\(\",\"\\\\)\"] ],\n",
        "                    displayMath: [ ['$$','$$'], [\"\\\\[\",\"\\\\]\"] ]\n",
        "                },\n",
        "                displayAlign: 'center', // Change this to 'center' to center equations.\n",
        "                \"HTML-CSS\": {\n",
        "                    styles: {'.MathJax_Display': {\"margin\": 4}}\n",
        "                }\n",
        "        });\n",
        "</script>\n"
       ],
       "metadata": {},
       "output_type": "pyout",
       "prompt_number": 3,
       "text": [
        "<IPython.core.display.HTML at 0x36fcd30>"
       ]
      }
     ],
     "prompt_number": 3
    }
   ],
   "metadata": {}
  }
 ]
}