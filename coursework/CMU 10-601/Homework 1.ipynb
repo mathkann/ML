{
 "metadata": {
  "name": "",
  "signature": "sha256:7cf3904b9775342aeb124ce08a5f3b0e4433998a8fe3fbdeef1105336488329c"
 },
 "nbformat": 3,
 "nbformat_minor": 0,
 "worksheets": [
  {
   "cells": [
    {
     "cell_type": "markdown",
     "metadata": {},
     "source": [
      "#Vectors and Matrices \n",
      "\n",
      "## Consider the matrix X and the vectors y and z below:\n",
      "\n",
      "$$ \n",
      "\\mathbf{X} = \n",
      "\\begin{bmatrix} \n",
      "2&4 \\\\\n",
      "1&3\n",
      "\\end{bmatrix}\n",
      "$$\n",
      "\n",
      "$$\\mathbf{y} = \\begin{bmatrix} 1 \\\\ 3 \\end{bmatrix}$$\n",
      "\n",
      "$$\\mathbf{z} = \\begin{bmatrix} 2 \\\\ 3 \\end{bmatrix}$$\n",
      "\n",
      "**1. What is the inner product of the vectors y and z? (this is also sometimes called the dot\n",
      "product, and is sometimes written $y^Tz$)**\n"
     ]
    },
    {
     "cell_type": "markdown",
     "metadata": {},
     "source": [
      "Inner Product of y and z ($y^T z$) = $(1 * 2) + ( 3 * 3) = 11$ "
     ]
    },
    {
     "cell_type": "code",
     "collapsed": false,
     "input": [
      "# Inner Product of two vectors using Numpy\n",
      "import numpy as np\n",
      "y =  np.array([[1], [3]])\n",
      "z = np.array([[2], [3]])\n",
      "\n",
      "print np.vdot(y,z)"
     ],
     "language": "python",
     "metadata": {},
     "outputs": [
      {
       "output_type": "stream",
       "stream": "stdout",
       "text": [
        "11\n"
       ]
      }
     ],
     "prompt_number": 63
    },
    {
     "cell_type": "markdown",
     "metadata": {},
     "source": [
      "**2. What is the product Xy?**\n",
      "\n",
      "Xy = $\\begin{bmatrix} (2 * 1) + ( 1 * 3) \\\\(4 * 1) + (3 * 3) \\end{bmatrix}$\n",
      "\n",
      "Xy = $\\begin{bmatrix} 5 \\\\ 13 \\end{bmatrix}$"
     ]
    },
    {
     "cell_type": "code",
     "collapsed": false,
     "input": [
      "# Matrix Vector multiplication using Numpy\n",
      "X = np.array([[2,1],[4,3]])\n",
      "y =  np.array([[1], [3]])\n",
      "\n",
      "print X.dot(y)"
     ],
     "language": "python",
     "metadata": {},
     "outputs": [
      {
       "output_type": "stream",
       "stream": "stdout",
       "text": [
        "[[ 5]\n",
        " [13]]\n"
       ]
      }
     ],
     "prompt_number": 64
    },
    {
     "cell_type": "markdown",
     "metadata": {},
     "source": [
      "**3. Is X invertible? If so, give the inverse, and if no, explain why not.**\n",
      "\n",
      "A n x n square matrix A is said to be invertible or nonsingular if there exists any n x n square matrix B such that $$ AB = BA = I_n $$ , where $I_n$ is a n x n Identity matrix.\n",
      "\n",
      "The inverse matrix of $X$, denoted by $X^{-1}$ is $$\\mathbf{X^{-1}} = \\begin{bmatrix} 1.5&-0.5 \\\\ -2&1 \\end{bmatrix}$$"
     ]
    },
    {
     "cell_type": "code",
     "collapsed": false,
     "input": [
      "# Inverse of X in Numpy\n",
      "from numpy.linalg import inv\n",
      "X_inv = inv(X)\n",
      "print 'Inverse of X is:'\n",
      "print X_inv\n",
      "\n",
      "print 'X * X_inv is an Identity Matrix'\n",
      "print X.dot(X_inv)"
     ],
     "language": "python",
     "metadata": {},
     "outputs": [
      {
       "output_type": "stream",
       "stream": "stdout",
       "text": [
        "Inverse of X is:\n",
        "[[ 1.5 -0.5]\n",
        " [-2.   1. ]]\n",
        "X * X_inv is an Identity Matrix\n",
        "[[ 1.  0.]\n",
        " [ 0.  1.]]\n"
       ]
      }
     ],
     "prompt_number": 65
    },
    {
     "cell_type": "markdown",
     "metadata": {},
     "source": [
      "**4. What is the rank of X?**\n",
      "\n",
      "The rank of X is 2, since the column rank is 2."
     ]
    }
   ],
   "metadata": {}
  }
 ]
}