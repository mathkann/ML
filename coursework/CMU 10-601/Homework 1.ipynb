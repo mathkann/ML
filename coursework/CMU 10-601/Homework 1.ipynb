{
 "metadata": {
  "name": "",
  "signature": "sha256:4349a36551c1939f274b5d2236175ce7774c234ec409cf0a23843e6b8b4cfc56"
 },
 "nbformat": 3,
 "nbformat_minor": 0,
 "worksheets": [
  {
   "cells": [
    {
     "cell_type": "markdown",
     "metadata": {},
     "source": [
      "#Vectors and Matrices \n",
      "\n",
      "## Consider the matrix X and the vectors y and z below:\n",
      "X = $\\left[\n",
      "\\matrix\n",
      "{\n",
      "2&4\\\\\n",
      "1&3\n",
      "}\n",
      "\\right]\n",
      "$\n",
      "\n",
      "y = $\\left[ \\matrix{1&3} \\right] $\n",
      "\n",
      "z= $\\left[ \\matrix{2&3} \\right] $\n",
      "\n",
      "**1. What is the inner product of the vectors y and z? (this is also sometimes called the dot\n",
      "product, and is sometimes written yTz)**\n",
      "**2. What is the product Xy?**\n",
      "**3. Is X invertible? If so, give the inverse, and if no, explain why not.**\n",
      "**4. What is the rank of X?**"
     ]
    },
    {
     "cell_type": "code",
     "collapsed": false,
     "input": [],
     "language": "python",
     "metadata": {},
     "outputs": []
    }
   ],
   "metadata": {}
  }
 ]
}