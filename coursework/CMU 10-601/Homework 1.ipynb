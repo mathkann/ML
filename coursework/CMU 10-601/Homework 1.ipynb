{
 "metadata": {
  "name": "",
  "signature": "sha256:a74b33e42a0ddf940ad6f4016724d32c987d1b50596783de6758b7f91715f08f"
 },
 "nbformat": 3,
 "nbformat_minor": 0,
 "worksheets": [
  {
   "cells": [
    {
     "cell_type": "markdown",
     "metadata": {},
     "source": [
      "#Vectors and Matrices \n",
      "\n",
      "## Consider the matrix X and the vectors y and z below:\n",
      "\n",
      "$$ \n",
      "\\mathbf{X} = \n",
      "\\begin{bmatrix} \n",
      "2&4 \\\\\n",
      "1&3\n",
      "\\end{bmatrix}\n",
      "$$\n",
      "\n",
      "$$\\mathbf{y} = \\begin{bmatrix} 1 \\\\ 3 \\end{bmatrix}$$\n",
      "\n",
      "$$\\mathbf{z} = \\begin{bmatrix} 2 \\\\ 3 \\end{bmatrix}$$\n",
      "\n",
      "\n"
     ]
    },
    {
     "cell_type": "markdown",
     "metadata": {},
     "source": [
      "**1. What is the inner product of the vectors y and z? (this is also sometimes called the dot product, and is sometimes written $y^Tz$)**\n",
      "\n",
      "Inner Product of y and z ($y^T z$) = $(1 * 2) + ( 3 * 3) = 11$ "
     ]
    },
    {
     "cell_type": "code",
     "collapsed": false,
     "input": [
      "# Inner Product of two vectors using Numpy\n",
      "import numpy as np\n",
      "y =  np.array([[1], [3]])\n",
      "z = np.array([[2], [3]])\n",
      "\n",
      "print np.vdot(y,z)"
     ],
     "language": "python",
     "metadata": {},
     "outputs": [
      {
       "output_type": "stream",
       "stream": "stdout",
       "text": [
        "11\n"
       ]
      }
     ],
     "prompt_number": 12
    },
    {
     "cell_type": "markdown",
     "metadata": {},
     "source": [
      "**2. What is the product Xy?**\n",
      "\n",
      "Xy = $\\begin{bmatrix} (2 * 1) + ( 1 * 3) \\\\(4 * 1) + (3 * 3) \\end{bmatrix}$\n",
      "\n",
      "Xy = $\\begin{bmatrix} 5 \\\\ 13 \\end{bmatrix}$"
     ]
    },
    {
     "cell_type": "code",
     "collapsed": false,
     "input": [
      "# Matrix Vector multiplication using Numpy\n",
      "X = np.array([[2,1],[4,3]])\n",
      "y =  np.array([[1], [3]])\n",
      "\n",
      "print X.dot(y)"
     ],
     "language": "python",
     "metadata": {},
     "outputs": [
      {
       "output_type": "stream",
       "stream": "stdout",
       "text": [
        "[[ 5]\n",
        " [13]]\n"
       ]
      }
     ],
     "prompt_number": 13
    },
    {
     "cell_type": "markdown",
     "metadata": {},
     "source": [
      "**3. Is X invertible? If so, give the inverse, and if no, explain why not.**\n",
      "\n",
      "A n x n square matrix A is said to be invertible or nonsingular if there exists any n x n square matrix B such that $$ AB = BA = I_n $$ , where $I_n$ is a n x n Identity matrix.\n",
      "\n",
      "The inverse matrix of $X$, denoted by $X^{-1}$ is $$\\mathbf{X^{-1}} = \\begin{bmatrix} 1.5&-0.5 \\\\ -2&1 \\end{bmatrix}$$"
     ]
    },
    {
     "cell_type": "code",
     "collapsed": false,
     "input": [
      "# Inverse of X in Numpy\n",
      "from numpy.linalg import inv\n",
      "X_inv = inv(X)\n",
      "print 'Inverse of X is:'\n",
      "print X_inv\n",
      "\n",
      "print 'X * X_inv is an Identity Matrix'\n",
      "print X.dot(X_inv)"
     ],
     "language": "python",
     "metadata": {},
     "outputs": [
      {
       "output_type": "stream",
       "stream": "stdout",
       "text": [
        "Inverse of X is:\n",
        "[[ 1.5 -0.5]\n",
        " [-2.   1. ]]\n",
        "X * X_inv is an Identity Matrix\n",
        "[[ 1.  0.]\n",
        " [ 0.  1.]]\n"
       ]
      }
     ],
     "prompt_number": 14
    },
    {
     "cell_type": "markdown",
     "metadata": {},
     "source": [
      "**4. What is the rank of X?**\n",
      "\n",
      "The rank of X is 2, since the column rank is 2."
     ]
    },
    {
     "cell_type": "heading",
     "level": 1,
     "metadata": {},
     "source": [
      "Calculus"
     ]
    },
    {
     "cell_type": "markdown",
     "metadata": {},
     "source": [
      "**1. If $y = x^3 + x \u2212 5$ then what is the derivative of y with respect to x?**\n",
      "\n",
      "Derivative of y w.r.t x is: $ \\frac{dy}{dx} = 3x^2 + 1$"
     ]
    },
    {
     "cell_type": "markdown",
     "metadata": {},
     "source": [
      "**2. If $y = x\\:sin(z)\\:e^{\u2212x}$ then what is the partial derivative of y with respect to x?**\n",
      "\n",
      "Using Product Rule and $e^{-x} = -e^{-x}$, we have \n",
      "\n",
      "$\\frac{\\partial y}{\\partial x} = sin(z)\\:e^{-x} - x\\:sin(z)\\:e^{-x}$"
     ]
    },
    {
     "cell_type": "heading",
     "level": 1,
     "metadata": {},
     "source": [
      "Probability and Statistics"
     ]
    },
    {
     "cell_type": "code",
     "collapsed": false,
     "input": [],
     "language": "python",
     "metadata": {},
     "outputs": [],
     "prompt_number": 14
    },
    {
     "cell_type": "code",
     "collapsed": false,
     "input": [
      "# Custom Styling - Please ignore\n",
      "# Custom CSS Styling \n",
      "from IPython.core.display import HTML\n",
      "\n",
      "def css_styling():\n",
      "    styles = open(\"../../styles/custom.css\", \"r\").read()\n",
      "    return HTML(styles)\n",
      "css_styling()\n"
     ],
     "language": "python",
     "metadata": {},
     "outputs": [
      {
       "html": [
        "<style>\n",
        "    @font-face {\n",
        "        font-family: \"Computer Modern\";\n",
        "        src: url('http://9dbb143991406a7c655e-aa5fcb0a5a4ec34cff238a2d56ca4144.r56.cf5.rackcdn.com/cmunss.otf');\n",
        "    }\n",
        "    @font-face {\n",
        "        font-family: \"Computer Modern\";\n",
        "        font-weight: bold;\n",
        "        src: url('http://9dbb143991406a7c655e-aa5fcb0a5a4ec34cff238a2d56ca4144.r56.cf5.rackcdn.com/cmunsx.otf');\n",
        "    }\n",
        "    @font-face {\n",
        "        font-family: \"Computer Modern\";\n",
        "        font-style: oblique;\n",
        "        src: url('http://9dbb143991406a7c655e-aa5fcb0a5a4ec34cff238a2d56ca4144.r56.cf5.rackcdn.com/cmunsi.otf');\n",
        "    }\n",
        "    @font-face {\n",
        "        font-family: \"Computer Modern\";\n",
        "        font-weight: bold;\n",
        "        font-style: oblique;\n",
        "        src: url('http://9dbb143991406a7c655e-aa5fcb0a5a4ec34cff238a2d56ca4144.r56.cf5.rackcdn.com/cmunso.otf');\n",
        "    }\n",
        "    div.cell{\n",
        "        width:800px;\n",
        "        margin-left:16% !important;\n",
        "        margin-right:auto;\n",
        "    }\n",
        "    h1 {\n",
        "        font-family: Helvetica, serif;\n",
        "    }\n",
        "    h4{\n",
        "        margin-top:12px;\n",
        "        margin-bottom: 3px;\n",
        "       }\n",
        "    div.text_cell_render{\n",
        "        font-family: Computer Modern, \"Helvetica Neue\", Arial, Helvetica, Geneva, sans-serif;\n",
        "        line-height: 145%;\n",
        "        font-size: 130%;\n",
        "        width:800px;\n",
        "        margin-left:auto;\n",
        "        margin-right:auto;\n",
        "    }\n",
        "    .CodeMirror{\n",
        "            font-family: \"Source Code Pro\", source-code-pro,Consolas, monospace;\n",
        "    }\n",
        "    .prompt{\n",
        "        display: None;\n",
        "    }\n",
        "    .text_cell_render h5 {\n",
        "        font-weight: 300;\n",
        "        font-size: 22pt;\n",
        "        color: #4057A1;\n",
        "        font-style: italic;\n",
        "        margin-bottom: .5em;\n",
        "        margin-top: 0.5em;\n",
        "        display: block;\n",
        "    }\n",
        "    \n",
        "    .warning{\n",
        "        color: rgb( 240, 20, 20 )\n",
        "        }  \n",
        "</style>\n",
        "<script>\n",
        "    MathJax.Hub.Config({\n",
        "                        TeX: {\n",
        "                           extensions: [\"AMSmath.js\"]\n",
        "                           },\n",
        "                tex2jax: {\n",
        "                    inlineMath: [ ['$','$'], [\"\\\\(\",\"\\\\)\"] ],\n",
        "                    displayMath: [ ['$$','$$'], [\"\\\\[\",\"\\\\]\"] ]\n",
        "                },\n",
        "                displayAlign: 'center', // Change this to 'center' to center equations.\n",
        "                \"HTML-CSS\": {\n",
        "                    styles: {'.MathJax_Display': {\"margin\": 4}}\n",
        "                }\n",
        "        });\n",
        "</script>\n"
       ],
       "metadata": {},
       "output_type": "pyout",
       "prompt_number": 15,
       "text": [
        "<IPython.core.display.HTML at 0x3d65438>"
       ]
      }
     ],
     "prompt_number": 15
    }
   ],
   "metadata": {}
  }
 ]
}