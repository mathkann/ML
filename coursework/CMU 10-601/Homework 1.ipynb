{
 "metadata": {
  "name": "",
  "signature": "sha256:f0f6e1cc2f0cdc6d9c9579778515803f88de3ac6d838bea02b05425992c56b7e"
 },
 "nbformat": 3,
 "nbformat_minor": 0,
 "worksheets": [
  {
   "cells": [
    {
     "cell_type": "markdown",
     "metadata": {},
     "source": [
      "#Vectors and Matrices \n",
      "\n",
      "## Consider the matrix X and the vectors y and z below:\n",
      "X = $\\left[\n",
      "\\matrix\n",
      "{\n",
      "2&4 \\\\\n",
      "1&3\n",
      "}\n",
      "\\right]\n",
      "$\n",
      "\n",
      "y = $\\left[ \\matrix{1 \\\\3} \\right] $\n",
      "\n",
      "z= $\\left[ \\matrix{2 \\\\3} \\right] $\n",
      "\n",
      "\n",
      "**1. What is the inner product of the vectors y and z? (this is also sometimes called the dot\n",
      "product, and is sometimes written $y^Tz$)**\n",
      "\n",
      "\n",
      "\n",
      "**2. What is the product Xy?**\n",
      "\n",
      "**3. Is X invertible? If so, give the inverse, and if no, explain why not.**\n",
      "\n",
      "**4. What is the rank of X?**"
     ]
    },
    {
     "cell_type": "code",
     "collapsed": false,
     "input": [],
     "language": "python",
     "metadata": {},
     "outputs": []
    }
   ],
   "metadata": {}
  }
 ]
}