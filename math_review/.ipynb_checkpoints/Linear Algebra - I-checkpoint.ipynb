{
 "metadata": {
  "name": "",
  "signature": "sha256:0151c97bee13aaae66a4f22f0ab2cf20b49f04fc0405a130a29e62bf7571c657"
 },
 "nbformat": 3,
 "nbformat_minor": 0,
 "worksheets": [
  {
   "cells": [
    {
     "cell_type": "markdown",
     "metadata": {},
     "source": [
      "# Linear Algebra Review - I"
     ]
    },
    {
     "cell_type": "code",
     "collapsed": false,
     "input": [],
     "language": "python",
     "metadata": {},
     "outputs": []
    }
   ],
   "metadata": {}
  }
 ]
}